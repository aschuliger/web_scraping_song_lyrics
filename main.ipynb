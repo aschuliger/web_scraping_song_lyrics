{
 "cells": [
  {
   "cell_type": "code",
   "execution_count": 1,
   "source": [
    "import pandas as pd\r\n",
    "import Dataframe_Generator as df_gen\r\n",
    "\r\n",
    "writers = [\"Swift Taylor Alison\", \"Taylor Swift\", \"Taylor Alison Swift\", \"Swift Taylor\"]\r\n",
    "lines_data, blocks_data = df_gen.collect_data(\"Taylor Swift\", writers)"
   ],
   "outputs": [
    {
     "output_type": "stream",
     "name": "stdout",
     "text": [
      "303\n",
      "happiness\n",
      "happiness\n",
      "['Taylor Alison Swift', 'Aaron Brooking Dessner']\n",
      "yes\n",
      "Today Was A Fairytale\n",
      "todaywasafairytale\n",
      "['Swift Taylor']\n",
      "yes\n",
      "ME!\n",
      "me\n",
      "['Taylor Swift', 'Brendon Urie', 'Joel Little']\n",
      "yes\n",
      "Thug Story\n",
      "thugstory\n",
      "['Faheem Rasheed Najm', 'Taylor Swift', 'Nash Overstreet', 'Ryan Follese']\n",
      "yes\n",
      "Your Face\n",
      "yourface\n",
      "['James Taylor']\n"
     ]
    }
   ],
   "metadata": {}
  },
  {
   "cell_type": "code",
   "execution_count": null,
   "source": [
    "songs = lines_data[\"Title\"].unique()\r\n",
    "print(len(songs))"
   ],
   "outputs": [],
   "metadata": {}
  },
  {
   "cell_type": "code",
   "execution_count": null,
   "source": [
    "#Check for \"\" in the lines. They seem to be messing something up"
   ],
   "outputs": [],
   "metadata": {}
  },
  {
   "cell_type": "code",
   "execution_count": 2,
   "source": [
    "print(blocks_data)"
   ],
   "outputs": [
    {
     "output_type": "stream",
     "name": "stdout",
     "text": [
      "         Artist         Album       Title Release Date  \\\n",
      "0  Taylor Swift  Taylor Swift  Tim McGraw         2006   \n",
      "1  Taylor Swift  Taylor Swift  Tim McGraw         2006   \n",
      "2  Taylor Swift  Taylor Swift  Tim McGraw         2006   \n",
      "3  Taylor Swift  Taylor Swift  Tim McGraw         2006   \n",
      "4  Taylor Swift  Taylor Swift  Tim McGraw         2006   \n",
      "5  Taylor Swift  Taylor Swift  Tim McGraw         2006   \n",
      "6  Taylor Swift  Taylor Swift  Tim McGraw         2006   \n",
      "7  Taylor Swift  Taylor Swift  Tim McGraw         2006   \n",
      "8  Taylor Swift  Taylor Swift  Tim McGraw         2006   \n",
      "\n",
      "                                               Lyric Position Sentiment  \n",
      "0  He said the way my blue eyes shined Put those ...        1         0  \n",
      "1  But when you think Tim McGraw I hope you think...        2         0  \n",
      "2  September saw a month of tears And thankin' Go...        3         0  \n",
      "3  When you think Tim McGraw I hope you think my ...        4         0  \n",
      "4  And I'm back for the first time since then I'm...        5         0  \n",
      "5  \"When you think Tim McGraw I hope you think my...        6         0  \n",
      "6  When you think happiness I hope you think that...        7         0  \n",
      "7                               Oh, think of me Mmmm        8         0  \n",
      "8  He said the way my blue eyes shined Put those ...        9         0  \n"
     ]
    }
   ],
   "metadata": {}
  },
  {
   "cell_type": "code",
   "execution_count": null,
   "source": [
    "# Check for duplicate songs\r\n",
    "# Remove non-Taylor Swift Original Songs using the writers section on the lyrics tab"
   ],
   "outputs": [],
   "metadata": {}
  },
  {
   "cell_type": "code",
   "execution_count": null,
   "source": [
    "''' Structure:\r\n",
    "- Dataframe with Artist, Title, Lyrics, Sentiment score, Release date\r\n",
    "- Dataframe with Lyric, Sentiment\r\n",
    "\r\n",
    "Better yet...\r\n",
    "- Dataframe with Artist, Title, Lyric, Position in Song, Sentiment Score, Release date\r\n",
    "- Dataframe with Artist, Title, Lyrical Block, Position in Song, Sentiment Score, Release date\r\n",
    "'''\r\n",
    "\r\n",
    "# Might be positive for happy and love, and negative for mad and sad\r\n",
    "# Should I be looking at both positive and negative sentiment as well as happy versus sad?"
   ],
   "outputs": [],
   "metadata": {}
  }
 ],
 "metadata": {
  "orig_nbformat": 4,
  "language_info": {
   "name": "python",
   "version": "3.8.5",
   "mimetype": "text/x-python",
   "codemirror_mode": {
    "name": "ipython",
    "version": 3
   },
   "pygments_lexer": "ipython3",
   "nbconvert_exporter": "python",
   "file_extension": ".py"
  },
  "kernelspec": {
   "name": "python3",
   "display_name": "Python 3.8.5 64-bit ('py38': conda)"
  },
  "interpreter": {
   "hash": "dda296041a5c4595916cf798e6f60932ef22684b2df31e487f17abf37f31ed62"
  }
 },
 "nbformat": 4,
 "nbformat_minor": 2
}